{
 "cells": [
  {
   "cell_type": "code",
   "execution_count": 2,
   "metadata": {},
   "outputs": [],
   "source": [
    "import autograd.numpy as anp\n",
    "import numpy as np\n",
    "from autograd import jacobian"
   ]
  },
  {
   "cell_type": "code",
   "execution_count": 3,
   "metadata": {},
   "outputs": [],
   "source": [
    "def NewtonMethod(F: callable, \n",
    "                 x0: np.ndarray, \n",
    "                 tol: float, \n",
    "                 maxit: int\n",
    ") -> np.ndarray:\n",
    "    \n",
    "    jac = jacobian(F)\n",
    "    xi = x0\n",
    "    Fe = F(xi)\n",
    "    cond = np.linalg.norm(F(x0)) > tol\n",
    "    i = 0\n",
    "\n",
    "    while cond and i < maxit:\n",
    "          \n",
    "        s = np.linalg.solve(a = jac(xi),\n",
    "                               b = -Fe)\n",
    "        xi = xi + s\n",
    "        i += 1\n",
    "        Fe = F(xi)\n",
    "        cond = np.linalg.norm(Fe) > tol\n",
    "    \n",
    "    return xi"
   ]
  },
  {
   "cell_type": "code",
   "execution_count": 5,
   "metadata": {},
   "outputs": [
    {
     "name": "stdout",
     "output_type": "stream",
     "text": [
      "[ 0.99999996 10.00000006  1.00000001]\n"
     ]
    }
   ],
   "source": [
    "def t(i):\n",
    "    return i/10\n",
    "\n",
    "def fun(x):\n",
    "    return anp.array([anp.exp(-t(1)*x[0]) - anp.exp(-t(1)*x[1]) - x[2]*(anp.exp(-t(1)) - anp.exp(-10*t(1))),\n",
    "                      anp.exp(-t(2)*x[0]) - anp.exp(-t(2)*x[1]) - x[2]*(anp.exp(-t(2)) - anp.exp(-10*t(2))),\n",
    "                      anp.exp(-t(3)*x[0]) - anp.exp(-t(3)*x[1]) - x[2]*(anp.exp(-t(3)) - anp.exp(-10*t(3)))])\n",
    "\n",
    "print(NewtonMethod(fun, anp.array([0.,10.,20.]), 1e-7, 1000))"
   ]
  }
 ],
 "metadata": {
  "kernelspec": {
   "display_name": "Python 3",
   "language": "python",
   "name": "python3"
  },
  "language_info": {
   "codemirror_mode": {
    "name": "ipython",
    "version": 3
   },
   "file_extension": ".py",
   "mimetype": "text/x-python",
   "name": "python",
   "nbconvert_exporter": "python",
   "pygments_lexer": "ipython3",
   "version": "3.11.9"
  }
 },
 "nbformat": 4,
 "nbformat_minor": 2
}
