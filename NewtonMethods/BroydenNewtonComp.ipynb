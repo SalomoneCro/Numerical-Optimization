{
 "cells": [
  {
   "cell_type": "code",
   "execution_count": 7,
   "metadata": {},
   "outputs": [],
   "source": [
    "from autograd import numpy as np, jacobian"
   ]
  },
  {
   "cell_type": "code",
   "execution_count": 8,
   "metadata": {},
   "outputs": [],
   "source": [
    "def NewtonMethod(F: callable, \n",
    "                 x0: np.ndarray, \n",
    "                 tol: float, \n",
    "                 maxit: int\n",
    ") -> np.ndarray:\n",
    "\n",
    "    err = []\n",
    "\n",
    "    jac = jacobian(F)\n",
    "    xi = x0\n",
    "    Fe = F(xi)\n",
    "    cond = np.linalg.norm(F(x0)) > tol\n",
    "    i = 0\n",
    "\n",
    "    while cond and i < maxit:\n",
    "          \n",
    "        s = np.linalg.solve(a = jac(xi),\n",
    "                               b = -Fe)\n",
    "        \n",
    "        err.append(np.linalg.norm(s, ord=np.inf))\n",
    "        \n",
    "        xi = xi + s\n",
    "        i += 1\n",
    "        Fe = F(xi)\n",
    "        cond = np.linalg.norm(Fe) > tol\n",
    "    \n",
    "    return xi, err\n",
    "\n",
    "def BroydenMethod(F: callable, \n",
    "                 x0: np.ndarray, \n",
    "                 tol: float, \n",
    "                 maxit: int\n",
    ") -> np.ndarray:\n",
    "    \n",
    "    err = []\n",
    "    J = jacobian(F)(x0)\n",
    "    xi = x0\n",
    "    Fe = F(xi)\n",
    "    cond = np.linalg.norm(Fe) > tol\n",
    "    i = 0\n",
    "\n",
    "    while cond and i < maxit:\n",
    "\n",
    "        s = np.linalg.solve(a = J,\n",
    "                            b = -Fe)\n",
    "        \n",
    "        err.append(np.linalg.norm(s, ord=np.inf))\n",
    "\n",
    "        yi = F(xi + s) - Fe\n",
    "        xi = xi + s\n",
    "        Fe = F(xi)\n",
    "        i += 1\n",
    "        cond = np.linalg.norm(Fe) > tol\n",
    "        J += np.inner((yi - J @ s), s) / np.inner(s,s)\n",
    "    \n",
    "    return xi, err"
   ]
  },
  {
   "cell_type": "code",
   "execution_count": 9,
   "metadata": {},
   "outputs": [],
   "source": [
    "def f1(x1, x2, x3):\n",
    "    return 3 * x1 - np.cos(x2 * x3) - (1 / 2)\n",
    "\n",
    "def f2(x1, x2, x3):\n",
    "    return np.exp(-x1 * x2) + 20 * x3 + (10 * np.pi - 3) / 3\n",
    "\n",
    "def f3(x1, x2, x3):\n",
    "    return x1**2 - 81 * (x2 + 0.1)**2 + np.sin(x3) + 1.06\n",
    "\n",
    "def F(x):\n",
    "    return np.array([f1(x[0], x[1], x[2]),\n",
    "                    f2(x[0], x[1], x[2]),\n",
    "                    f3(x[0], x[1], x[2])])\n",
    "\n",
    "x0 = np.array([0.1,0.1,-0.1])"
   ]
  },
  {
   "cell_type": "code",
   "execution_count": 21,
   "metadata": {},
   "outputs": [],
   "source": [
    "xN, errN = NewtonMethod(F=F,\n",
    "                  x0=x0,\n",
    "                  tol=1e-32,\n",
    "                  maxit=10)\n",
    "\n",
    "xB, errB = BroydenMethod(F=F,\n",
    "                  x0=x0,\n",
    "                  tol=1e-32,\n",
    "                  maxit=10)"
   ]
  },
  {
   "cell_type": "markdown",
   "metadata": {},
   "source": [
    "Here I am coparing the convergence of each method using the infinity norm between the values the method visit between contiguous iterations"
   ]
  },
  {
   "cell_type": "code",
   "execution_count": 22,
   "metadata": {},
   "outputs": [
    {
     "name": "stdout",
     "output_type": "stream",
     "text": [
      "Iteration           Newton error                            Broyden error       \n",
      "0                   0.42152047193583064                     0.42152047193583064 \n",
      "1                   0.017878257167124205                    0.010798979908119347\n",
      "2                   0.0015761465869723393                   0.0046436351566131  \n",
      "3                   1.244400753583079e-05                   0.002039759145408907\n",
      "4                   7.757857127143586e-10                   0.0010227667732147945\n",
      "5                   8.893670222225524e-17                   0.00047626294944988105\n",
      "6                   8.927982221539666e-17                   0.00024944908815005453\n",
      "7                   8.927982221539666e-17                   0.00011693908549938023\n",
      "8                   8.927982221539666e-17                   6.101156418130812e-05\n",
      "9                   8.927982221539666e-17                   2.8691764354820767e-05\n"
     ]
    }
   ],
   "source": [
    "# Print the header\n",
    "print(f\"{'Iteration':<20}{'Newton error':<40}{'Broyden error':<20}\")\n",
    "\n",
    "# Print the table rows\n",
    "for index, (item1, item2) in enumerate(zip(errN, errB)):\n",
    "    print(f\"{index:<20}{item1:<40}{item2:<20}\")"
   ]
  }
 ],
 "metadata": {
  "kernelspec": {
   "display_name": "Python 3",
   "language": "python",
   "name": "python3"
  },
  "language_info": {
   "codemirror_mode": {
    "name": "ipython",
    "version": 3
   },
   "file_extension": ".py",
   "mimetype": "text/x-python",
   "name": "python",
   "nbconvert_exporter": "python",
   "pygments_lexer": "ipython3",
   "version": "3.11.9"
  }
 },
 "nbformat": 4,
 "nbformat_minor": 2
}
