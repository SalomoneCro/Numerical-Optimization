{
 "cells": [
  {
   "cell_type": "code",
   "execution_count": 1,
   "metadata": {},
   "outputs": [],
   "source": [
    "import NewtonMethods as solvers\n",
    "import autograd.numpy "
   ]
  },
  {
   "cell_type": "code",
   "execution_count": 2,
   "metadata": {},
   "outputs": [],
   "source": [
    "def fun(x):\n",
    "    return autograd.numpy.array([x[0] + x[1] - 3., x[0]**2 + x[1]**2 - 9.])"
   ]
  },
  {
   "cell_type": "code",
   "execution_count": 3,
   "metadata": {},
   "outputs": [
    {
     "name": "stdout",
     "output_type": "stream",
     "text": [
      "[-2.08210161e-15  3.00000000e+00]\n"
     ]
    }
   ],
   "source": [
    "print(solvers.NewtonMethod(fun, autograd.numpy.array([3.,10.]), 1e-7, 1000))"
   ]
  },
  {
   "cell_type": "code",
   "execution_count": 4,
   "metadata": {},
   "outputs": [
    {
     "name": "stdout",
     "output_type": "stream",
     "text": [
      "[1.39220677e-08 2.99999999e+00]\n"
     ]
    }
   ],
   "source": [
    "print(solvers.StationaryNewtonMethod(fun, autograd.numpy.array([3.,10.]), 1e-7, 1000))"
   ]
  },
  {
   "cell_type": "code",
   "execution_count": 5,
   "metadata": {},
   "outputs": [
    {
     "name": "stdout",
     "output_type": "stream",
     "text": [
      "[-1.11729449e-08  3.00000001e+00]\n"
     ]
    }
   ],
   "source": [
    "print(solvers.mStationaryNewtonMethod(fun, autograd.numpy.array([3.,10.]), 1e-7, 1000, m=5))"
   ]
  },
  {
   "cell_type": "code",
   "execution_count": 6,
   "metadata": {},
   "outputs": [
    {
     "name": "stdout",
     "output_type": "stream",
     "text": [
      "[1.39220629e-08 2.99999999e+00]\n"
     ]
    }
   ],
   "source": [
    "print(solvers.BroydenMethod(fun, autograd.numpy.array([3.,10.]), 1e-7, 1000))"
   ]
  }
 ],
 "metadata": {
  "kernelspec": {
   "display_name": "Python 3",
   "language": "python",
   "name": "python3"
  },
  "language_info": {
   "codemirror_mode": {
    "name": "ipython",
    "version": 3
   },
   "file_extension": ".py",
   "mimetype": "text/x-python",
   "name": "python",
   "nbconvert_exporter": "python",
   "pygments_lexer": "ipython3",
   "version": "3.11.9"
  }
 },
 "nbformat": 4,
 "nbformat_minor": 2
}
