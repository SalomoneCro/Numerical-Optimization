{
 "cells": [
  {
   "cell_type": "code",
   "execution_count": 18,
   "metadata": {},
   "outputs": [],
   "source": [
    "from ConjugateGradientMethod import sol_gradcon\n",
    "from StepeestDescentMethod import sol_gradopt\n",
    "import numpy as np"
   ]
  },
  {
   "cell_type": "code",
   "execution_count": 19,
   "metadata": {},
   "outputs": [],
   "source": [
    "A = np.array([\n",
    "    [4, 0, 0, 1, 0, 0],\n",
    "    [0, 4, 0, 0, 1, 0],\n",
    "    [0, 0, 5, 0, 0, 1],\n",
    "    [1, 0, 0, 5, 0, 0],\n",
    "    [0, 1, 0, 0, 6, 0],\n",
    "    [0, 0, 1, 0, 0, 6]\n",
    "])\n",
    "\n",
    "b = np.array([4, -8, 16, 1, -2, 9])"
   ]
  },
  {
   "cell_type": "code",
   "execution_count": 20,
   "metadata": {},
   "outputs": [],
   "source": [
    "cjgt_grad = sol_gradcon(A=A,\n",
    "                        b=b,\n",
    "                        x0=[0,0,0,0,0,0],\n",
    "                        ItMax=1000,\n",
    "                        tol=1e-10)\n",
    "\n",
    "steep_ds = sol_gradopt(A=A,\n",
    "                        b=b,\n",
    "                        x0=[0,0,0,0,0,0],\n",
    "                        ItMax=1000,\n",
    "                        tol=1e-10)"
   ]
  },
  {
   "cell_type": "code",
   "execution_count": 21,
   "metadata": {},
   "outputs": [
    {
     "name": "stdout",
     "output_type": "stream",
     "text": [
      "[ 1.00000000e+00 -2.00000000e+00  3.00000000e+00 -2.01661604e-17\n",
      "  2.40150781e-17  1.00000000e+00] \n",
      " [ 9.99999068e-01 -1.99999957e+00  2.99999957e+00  5.75998160e-07\n",
      " -1.36061654e-07  9.99999312e-01]\n"
     ]
    }
   ],
   "source": [
    "print(cjgt_grad, '\\n', steep_ds)"
   ]
  },
  {
   "cell_type": "code",
   "execution_count": 22,
   "metadata": {},
   "outputs": [
    {
     "name": "stdout",
     "output_type": "stream",
     "text": [
      "[ 4. -8. 16.  1. -2.  9.] \n",
      " [ 3.99999685 -7.99999844 15.99999719  1.00000195 -2.00000039  8.99999545]\n"
     ]
    }
   ],
   "source": [
    "print(A@cjgt_grad, '\\n', A@steep_ds)"
   ]
  }
 ],
 "metadata": {
  "kernelspec": {
   "display_name": "Python 3",
   "language": "python",
   "name": "python3"
  },
  "language_info": {
   "codemirror_mode": {
    "name": "ipython",
    "version": 3
   },
   "file_extension": ".py",
   "mimetype": "text/x-python",
   "name": "python",
   "nbconvert_exporter": "python",
   "pygments_lexer": "ipython3",
   "version": "3.11.9"
  }
 },
 "nbformat": 4,
 "nbformat_minor": 2
}
